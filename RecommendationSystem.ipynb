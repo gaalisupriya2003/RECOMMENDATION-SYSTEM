{
 "cells": [
  {
   "cell_type": "markdown",
   "id": "91211393-0418-4a77-b3b3-08b0fb3b9eee",
   "metadata": {},
   "source": [
    "<h4>RECOMMENDATION SYSTEM</h4>"
   ]
  },
  {
   "cell_type": "markdown",
   "id": "7789e0ea-1ab2-4cea-994a-37b575127eb8",
   "metadata": {},
   "source": [
    "<h4>Import necessary libraries</h4>"
   ]
  },
  {
   "cell_type": "code",
   "execution_count": 1,
   "id": "e9c1a04c-0d38-4457-bd40-816b6aa5f122",
   "metadata": {},
   "outputs": [],
   "source": [
    "import pandas as pd\n",
    "import numpy as np\n",
    "import matplotlib.pyplot as plt\n",
    "from surprise import SVD, Dataset, Reader, accuracy\n",
    "from surprise.model_selection import train_test_split"
   ]
  },
  {
   "cell_type": "markdown",
   "id": "5529e14a-ebff-40b6-a8ab-be097959ec62",
   "metadata": {},
   "source": [
    "<h4>Load dataset from kaggle: <a href=https://www.kaggle.com/datasets/dev0914sharma/dataset>https://www.kaggle.com/datasets/dev0914sharma/dataset</a></h4>"
   ]
  },
  {
   "cell_type": "code",
   "execution_count": 2,
   "id": "719ba3d8-e8b5-4637-a721-c034a2e64bea",
   "metadata": {},
   "outputs": [
    {
     "data": {
      "text/html": [
       "<div>\n",
       "<style scoped>\n",
       "    .dataframe tbody tr th:only-of-type {\n",
       "        vertical-align: middle;\n",
       "    }\n",
       "\n",
       "    .dataframe tbody tr th {\n",
       "        vertical-align: top;\n",
       "    }\n",
       "\n",
       "    .dataframe thead th {\n",
       "        text-align: right;\n",
       "    }\n",
       "</style>\n",
       "<table border=\"1\" class=\"dataframe\">\n",
       "  <thead>\n",
       "    <tr style=\"text-align: right;\">\n",
       "      <th></th>\n",
       "      <th>item_id</th>\n",
       "      <th>title</th>\n",
       "    </tr>\n",
       "  </thead>\n",
       "  <tbody>\n",
       "    <tr>\n",
       "      <th>1600</th>\n",
       "      <td>1601</td>\n",
       "      <td>Office Killer (1997)</td>\n",
       "    </tr>\n",
       "    <tr>\n",
       "      <th>1665</th>\n",
       "      <td>1666</td>\n",
       "      <td>Ripe (1996)</td>\n",
       "    </tr>\n",
       "    <tr>\n",
       "      <th>660</th>\n",
       "      <td>661</td>\n",
       "      <td>High Noon (1952)</td>\n",
       "    </tr>\n",
       "    <tr>\n",
       "      <th>594</th>\n",
       "      <td>595</td>\n",
       "      <td>Fan, The (1996)</td>\n",
       "    </tr>\n",
       "    <tr>\n",
       "      <th>1253</th>\n",
       "      <td>1254</td>\n",
       "      <td>Gone Fishin' (1997)</td>\n",
       "    </tr>\n",
       "  </tbody>\n",
       "</table>\n",
       "</div>"
      ],
      "text/plain": [
       "      item_id                 title\n",
       "1600     1601  Office Killer (1997)\n",
       "1665     1666           Ripe (1996)\n",
       "660       661      High Noon (1952)\n",
       "594       595       Fan, The (1996)\n",
       "1253     1254   Gone Fishin' (1997)"
      ]
     },
     "execution_count": 2,
     "metadata": {},
     "output_type": "execute_result"
    }
   ],
   "source": [
    "movies=pd.read_csv(\"Dataset/Movie_Id_Titles.csv\")\n",
    "movies.sample(5)"
   ]
  },
  {
   "cell_type": "code",
   "execution_count": 3,
   "id": "1eb12a78-f5c6-4680-a115-e390b4a76b81",
   "metadata": {},
   "outputs": [
    {
     "data": {
      "text/html": [
       "<div>\n",
       "<style scoped>\n",
       "    .dataframe tbody tr th:only-of-type {\n",
       "        vertical-align: middle;\n",
       "    }\n",
       "\n",
       "    .dataframe tbody tr th {\n",
       "        vertical-align: top;\n",
       "    }\n",
       "\n",
       "    .dataframe thead th {\n",
       "        text-align: right;\n",
       "    }\n",
       "</style>\n",
       "<table border=\"1\" class=\"dataframe\">\n",
       "  <thead>\n",
       "    <tr style=\"text-align: right;\">\n",
       "      <th></th>\n",
       "      <th>user_id</th>\n",
       "      <th>item_id</th>\n",
       "      <th>rating</th>\n",
       "      <th>timestamp</th>\n",
       "    </tr>\n",
       "  </thead>\n",
       "  <tbody>\n",
       "    <tr>\n",
       "      <th>41869</th>\n",
       "      <td>535</td>\n",
       "      <td>604</td>\n",
       "      <td>4</td>\n",
       "      <td>879617663</td>\n",
       "    </tr>\n",
       "    <tr>\n",
       "      <th>51778</th>\n",
       "      <td>474</td>\n",
       "      <td>179</td>\n",
       "      <td>5</td>\n",
       "      <td>887924424</td>\n",
       "    </tr>\n",
       "    <tr>\n",
       "      <th>39463</th>\n",
       "      <td>449</td>\n",
       "      <td>100</td>\n",
       "      <td>5</td>\n",
       "      <td>879958664</td>\n",
       "    </tr>\n",
       "    <tr>\n",
       "      <th>6815</th>\n",
       "      <td>315</td>\n",
       "      <td>302</td>\n",
       "      <td>5</td>\n",
       "      <td>879799301</td>\n",
       "    </tr>\n",
       "    <tr>\n",
       "      <th>18583</th>\n",
       "      <td>389</td>\n",
       "      <td>275</td>\n",
       "      <td>5</td>\n",
       "      <td>879915860</td>\n",
       "    </tr>\n",
       "  </tbody>\n",
       "</table>\n",
       "</div>"
      ],
      "text/plain": [
       "       user_id  item_id  rating  timestamp\n",
       "41869      535      604       4  879617663\n",
       "51778      474      179       5  887924424\n",
       "39463      449      100       5  879958664\n",
       "6815       315      302       5  879799301\n",
       "18583      389      275       5  879915860"
      ]
     },
     "execution_count": 3,
     "metadata": {},
     "output_type": "execute_result"
    }
   ],
   "source": [
    "ratings=pd.read_csv(\"Dataset/Dataset.csv\")\n",
    "ratings.sample(5)"
   ]
  },
  {
   "cell_type": "code",
   "execution_count": 4,
   "id": "e0a4e721-68f9-4881-bb3a-1e9346b3499b",
   "metadata": {},
   "outputs": [
    {
     "data": {
      "text/plain": [
       "(1682, 2)"
      ]
     },
     "execution_count": 4,
     "metadata": {},
     "output_type": "execute_result"
    }
   ],
   "source": [
    "movies.shape"
   ]
  },
  {
   "cell_type": "code",
   "execution_count": 5,
   "id": "e6726adc-50f1-4209-947c-290147c0329c",
   "metadata": {},
   "outputs": [
    {
     "data": {
      "text/plain": [
       "(100003, 4)"
      ]
     },
     "execution_count": 5,
     "metadata": {},
     "output_type": "execute_result"
    }
   ],
   "source": [
    "ratings.shape"
   ]
  },
  {
   "cell_type": "code",
   "execution_count": 6,
   "id": "8d40556a-f779-41e6-ae45-178e92eb22bd",
   "metadata": {},
   "outputs": [
    {
     "name": "stdout",
     "output_type": "stream",
     "text": [
      "<class 'pandas.core.frame.DataFrame'>\n",
      "RangeIndex: 1682 entries, 0 to 1681\n",
      "Data columns (total 2 columns):\n",
      " #   Column   Non-Null Count  Dtype \n",
      "---  ------   --------------  ----- \n",
      " 0   item_id  1682 non-null   int64 \n",
      " 1   title    1682 non-null   object\n",
      "dtypes: int64(1), object(1)\n",
      "memory usage: 26.4+ KB\n"
     ]
    }
   ],
   "source": [
    "movies.info()"
   ]
  },
  {
   "cell_type": "code",
   "execution_count": 7,
   "id": "4de15072-0a62-4bcd-8661-7d8fe1af10ea",
   "metadata": {},
   "outputs": [
    {
     "name": "stdout",
     "output_type": "stream",
     "text": [
      "<class 'pandas.core.frame.DataFrame'>\n",
      "RangeIndex: 100003 entries, 0 to 100002\n",
      "Data columns (total 4 columns):\n",
      " #   Column     Non-Null Count   Dtype\n",
      "---  ------     --------------   -----\n",
      " 0   user_id    100003 non-null  int64\n",
      " 1   item_id    100003 non-null  int64\n",
      " 2   rating     100003 non-null  int64\n",
      " 3   timestamp  100003 non-null  int64\n",
      "dtypes: int64(4)\n",
      "memory usage: 3.1 MB\n"
     ]
    }
   ],
   "source": [
    "ratings.info()"
   ]
  },
  {
   "cell_type": "code",
   "execution_count": 8,
   "id": "3094b7a0-b3e3-4f8f-85fa-25cb96239842",
   "metadata": {},
   "outputs": [
    {
     "data": {
      "text/plain": [
       "0"
      ]
     },
     "execution_count": 8,
     "metadata": {},
     "output_type": "execute_result"
    }
   ],
   "source": [
    "movies.duplicated().sum()"
   ]
  },
  {
   "cell_type": "code",
   "execution_count": 9,
   "id": "25af94f6-3c07-4bc0-bcfe-f7a1bdeda5f9",
   "metadata": {},
   "outputs": [
    {
     "data": {
      "text/plain": [
       "0"
      ]
     },
     "execution_count": 9,
     "metadata": {},
     "output_type": "execute_result"
    }
   ],
   "source": [
    "ratings.duplicated().sum()"
   ]
  },
  {
   "cell_type": "markdown",
   "id": "50355ce1-05cb-4c28-ab05-a9de868a7753",
   "metadata": {},
   "source": [
    "<h4>Merge two datasets</h4>"
   ]
  },
  {
   "cell_type": "code",
   "execution_count": 10,
   "id": "e9cfd612-b8d4-486d-83e1-e1e20d228954",
   "metadata": {},
   "outputs": [
    {
     "data": {
      "text/html": [
       "<div>\n",
       "<style scoped>\n",
       "    .dataframe tbody tr th:only-of-type {\n",
       "        vertical-align: middle;\n",
       "    }\n",
       "\n",
       "    .dataframe tbody tr th {\n",
       "        vertical-align: top;\n",
       "    }\n",
       "\n",
       "    .dataframe thead th {\n",
       "        text-align: right;\n",
       "    }\n",
       "</style>\n",
       "<table border=\"1\" class=\"dataframe\">\n",
       "  <thead>\n",
       "    <tr style=\"text-align: right;\">\n",
       "      <th></th>\n",
       "      <th>item_id</th>\n",
       "      <th>title</th>\n",
       "      <th>user_id</th>\n",
       "      <th>rating</th>\n",
       "      <th>timestamp</th>\n",
       "    </tr>\n",
       "  </thead>\n",
       "  <tbody>\n",
       "    <tr>\n",
       "      <th>0</th>\n",
       "      <td>1</td>\n",
       "      <td>Toy Story (1995)</td>\n",
       "      <td>308</td>\n",
       "      <td>4</td>\n",
       "      <td>887736532</td>\n",
       "    </tr>\n",
       "    <tr>\n",
       "      <th>1</th>\n",
       "      <td>1</td>\n",
       "      <td>Toy Story (1995)</td>\n",
       "      <td>287</td>\n",
       "      <td>5</td>\n",
       "      <td>875334088</td>\n",
       "    </tr>\n",
       "    <tr>\n",
       "      <th>2</th>\n",
       "      <td>1</td>\n",
       "      <td>Toy Story (1995)</td>\n",
       "      <td>148</td>\n",
       "      <td>4</td>\n",
       "      <td>877019411</td>\n",
       "    </tr>\n",
       "    <tr>\n",
       "      <th>3</th>\n",
       "      <td>1</td>\n",
       "      <td>Toy Story (1995)</td>\n",
       "      <td>280</td>\n",
       "      <td>4</td>\n",
       "      <td>891700426</td>\n",
       "    </tr>\n",
       "    <tr>\n",
       "      <th>4</th>\n",
       "      <td>1</td>\n",
       "      <td>Toy Story (1995)</td>\n",
       "      <td>66</td>\n",
       "      <td>3</td>\n",
       "      <td>883601324</td>\n",
       "    </tr>\n",
       "    <tr>\n",
       "      <th>...</th>\n",
       "      <td>...</td>\n",
       "      <td>...</td>\n",
       "      <td>...</td>\n",
       "      <td>...</td>\n",
       "      <td>...</td>\n",
       "    </tr>\n",
       "    <tr>\n",
       "      <th>99998</th>\n",
       "      <td>1678</td>\n",
       "      <td>Mat' i syn (1997)</td>\n",
       "      <td>863</td>\n",
       "      <td>1</td>\n",
       "      <td>889289570</td>\n",
       "    </tr>\n",
       "    <tr>\n",
       "      <th>99999</th>\n",
       "      <td>1679</td>\n",
       "      <td>B. Monkey (1998)</td>\n",
       "      <td>863</td>\n",
       "      <td>3</td>\n",
       "      <td>889289491</td>\n",
       "    </tr>\n",
       "    <tr>\n",
       "      <th>100000</th>\n",
       "      <td>1680</td>\n",
       "      <td>Sliding Doors (1998)</td>\n",
       "      <td>863</td>\n",
       "      <td>2</td>\n",
       "      <td>889289570</td>\n",
       "    </tr>\n",
       "    <tr>\n",
       "      <th>100001</th>\n",
       "      <td>1681</td>\n",
       "      <td>You So Crazy (1994)</td>\n",
       "      <td>896</td>\n",
       "      <td>3</td>\n",
       "      <td>887160722</td>\n",
       "    </tr>\n",
       "    <tr>\n",
       "      <th>100002</th>\n",
       "      <td>1682</td>\n",
       "      <td>Scream of Stone (Schrei aus Stein) (1991)</td>\n",
       "      <td>916</td>\n",
       "      <td>3</td>\n",
       "      <td>880845755</td>\n",
       "    </tr>\n",
       "  </tbody>\n",
       "</table>\n",
       "<p>100003 rows × 5 columns</p>\n",
       "</div>"
      ],
      "text/plain": [
       "        item_id                                      title  user_id  rating  \\\n",
       "0             1                           Toy Story (1995)      308       4   \n",
       "1             1                           Toy Story (1995)      287       5   \n",
       "2             1                           Toy Story (1995)      148       4   \n",
       "3             1                           Toy Story (1995)      280       4   \n",
       "4             1                           Toy Story (1995)       66       3   \n",
       "...         ...                                        ...      ...     ...   \n",
       "99998      1678                          Mat' i syn (1997)      863       1   \n",
       "99999      1679                           B. Monkey (1998)      863       3   \n",
       "100000     1680                       Sliding Doors (1998)      863       2   \n",
       "100001     1681                        You So Crazy (1994)      896       3   \n",
       "100002     1682  Scream of Stone (Schrei aus Stein) (1991)      916       3   \n",
       "\n",
       "        timestamp  \n",
       "0       887736532  \n",
       "1       875334088  \n",
       "2       877019411  \n",
       "3       891700426  \n",
       "4       883601324  \n",
       "...           ...  \n",
       "99998   889289570  \n",
       "99999   889289491  \n",
       "100000  889289570  \n",
       "100001  887160722  \n",
       "100002  880845755  \n",
       "\n",
       "[100003 rows x 5 columns]"
      ]
     },
     "execution_count": 10,
     "metadata": {},
     "output_type": "execute_result"
    }
   ],
   "source": [
    "movies_ratings=movies.merge(ratings,on='item_id')\n",
    "movies_ratings"
   ]
  },
  {
   "cell_type": "code",
   "execution_count": 11,
   "id": "ecf747a3-c273-45fd-9880-db983206eac3",
   "metadata": {},
   "outputs": [
    {
     "data": {
      "text/plain": [
       "array([5, 1, 3, 2, 4], dtype=int64)"
      ]
     },
     "execution_count": 11,
     "metadata": {},
     "output_type": "execute_result"
    }
   ],
   "source": [
    "ratings['rating'].unique()"
   ]
  },
  {
   "cell_type": "markdown",
   "id": "09f148bf-a075-485f-8e6d-5a89b0a8ef96",
   "metadata": {},
   "source": [
    "<h5>Plot of Rating Distribution</h5>"
   ]
  },
  {
   "cell_type": "code",
   "execution_count": 12,
   "id": "b8d3efc8-e0c1-4ad1-80fc-6c1240b3f554",
   "metadata": {},
   "outputs": [
    {
     "data": {
      "image/png": "[encoded data removed]",
      "text/plain": [
       "<Figure size 1000x500 with 1 Axes>"
      ]
     },
     "metadata": {},
     "output_type": "display_data"
    }
   ],
   "source": [
    "plt.figure(figsize=(10,5))\n",
    "plt.hist(ratings['rating'],bins=5)\n",
    "plt.title('Rating Distribution')\n",
    "plt.xlabel('Rating')\n",
    "plt.ylabel('Frequency')\n",
    "plt.show()"
   ]
  },
  {
   "cell_type": "code",
   "execution_count": 13,
   "id": "95356e5d-1327-4e6e-95f3-027a43eeb8f8",
   "metadata": {},
   "outputs": [
    {
     "data": {
      "image/png": "[encoded data removed]",
      "text/plain": [
       "<Figure size 1000x500 with 1 Axes>"
      ]
     },
     "metadata": {},
     "output_type": "display_data"
    }
   ],
   "source": [
    "import matplotlib.pyplot as plt\n",
    "# Top 10 most rated movies\n",
    "top_movies = movies_ratings.groupby(\"title\")[\"rating\"].count().sort_values(ascending=False).head(10)\n",
    "plt.figure(figsize=(10, 5))\n",
    "top_movies.plot(kind=\"bar\")\n",
    "plt.xlabel(\"Movie\")\n",
    "plt.ylabel(\"Number of Ratings\")\n",
    "plt.title(\"Top 10 Most Rated Movies\")\n",
    "plt.show()"
   ]
  },
  {
   "cell_type": "markdown",
   "id": "34ef9229-a1b4-429d-8919-4e7c3be3b53f",
   "metadata": {},
   "source": [
    "<h4>Selecting necessary columns</h4>"
   ]
  },
  {
   "cell_type": "code",
   "execution_count": 14,
   "id": "8e42aa42-925a-4b97-bed2-694b73fe6483",
   "metadata": {},
   "outputs": [],
   "source": [
    "ratings_m = movies_ratings[['user_id', 'item_id', 'rating']].copy()\n",
    "ratings_m.columns = ['user_id', 'item_id', 'rating']"
   ]
  },
  {
   "cell_type": "markdown",
   "id": "e3ac21bd-ba39-490e-a342-eb5e1fab0601",
   "metadata": {},
   "source": [
    "<h4>Preparing dataset for Surprise</h4>"
   ]
  },
  {
   "cell_type": "code",
   "execution_count": 15,
   "id": "cb1e4709-09e2-4b3e-97df-67ee1a555755",
   "metadata": {},
   "outputs": [],
   "source": [
    "reader = Reader(rating_scale=(1,5))\n",
    "data = Dataset.load_from_df(ratings_m[['user_id', 'item_id', 'rating']], reader)\n",
    "trainset, testset = train_test_split(data, test_size=0.25)"
   ]
  },
  {
   "cell_type": "markdown",
   "id": "206cdf98-78dc-41c6-8e03-ff079dfb3232",
   "metadata": {},
   "source": [
    "<h4>Training the Model</h4>"
   ]
  },
  {
   "cell_type": "code",
   "execution_count": 16,
   "id": "928467c8-c490-4a1a-bf1b-c14a6ac8f023",
   "metadata": {},
   "outputs": [],
   "source": [
    "# Apply SVD for matrix factorization\n",
    "model = SVD()\n",
    "model.fit(trainset)\n",
    "predictions = model.test(testset)"
   ]
  },
  {
   "cell_type": "markdown",
   "id": "914a6281-c0ba-46fc-8885-a2212fc854f4",
   "metadata": {},
   "source": [
    "<h4>Evaluation Metrics</h4>"
   ]
  },
  {
   "cell_type": "code",
   "execution_count": 17,
   "id": "05029f26-19f3-486d-846b-1ae0732c233f",
   "metadata": {},
   "outputs": [
    {
     "name": "stdout",
     "output_type": "stream",
     "text": [
      "--Evaluation metrics--\n",
      "RMSE: 0.9418\n",
      "MAE:  0.7424\n"
     ]
    }
   ],
   "source": [
    "# Evaluation metrics\n",
    "print('--Evaluation metrics--')\n",
    "rmse = accuracy.rmse(predictions)\n",
    "mae = accuracy.mae(predictions)"
   ]
  },
  {
   "cell_type": "code",
   "execution_count": 18,
   "id": "f702b31e-9022-4d96-8e0d-c7ba6b81f998",
   "metadata": {},
   "outputs": [
    {
     "name": "stdout",
     "output_type": "stream",
     "text": [
      "Evaluating RMSE, MAE of algorithm SVD on 5 split(s).\n",
      "\n",
      "                  Fold 1  Fold 2  Fold 3  Fold 4  Fold 5  Mean    Std     \n",
      "RMSE (testset)    0.9332  0.9402  0.9376  0.9424  0.9335  0.9374  0.0036  \n",
      "MAE (testset)     0.7337  0.7438  0.7393  0.7412  0.7347  0.7385  0.0039  \n",
      "Fit time          1.13    1.19    1.16    1.13    1.13    1.15    0.02    \n",
      "Test time         0.12    0.18    0.13    0.21    0.12    0.15    0.04    \n"
     ]
    },
    {
     "data": {
      "text/plain": [
       "dict_keys(['test_rmse', 'test_mae', 'fit_time', 'test_time'])"
      ]
     },
     "execution_count": 18,
     "metadata": {},
     "output_type": "execute_result"
    }
   ],
   "source": [
    "from surprise.model_selection import cross_validate\n",
    "cv_results=cross_validate(model,data,verbose=True)\n",
    "cv_results.keys()"
   ]
  },
  {
   "cell_type": "code",
   "execution_count": 19,
   "id": "e2337ef4-c27e-496f-9454-d31fa3b92ca8",
   "metadata": {},
   "outputs": [
    {
     "name": "stdout",
     "output_type": "stream",
     "text": [
      "Cross Validation Results\n",
      "Average RSME: 0.9374\n",
      "Average MAE: 0.7385\n"
     ]
    }
   ],
   "source": [
    "print('Cross Validation Results')\n",
    "print(f\"Average RSME: {np.mean(cv_results['test_rmse']):.4f}\")\n",
    "print(f\"Average MAE: {np.mean(cv_results['test_mae']):.4f}\")\n"
   ]
  },
  {
   "cell_type": "markdown",
   "id": "a677f17c-5a64-43f0-87f3-8fc99b0bffe2",
   "metadata": {},
   "source": [
    "<h4>Recommendations for sample users</h4>"
   ]
  },
  {
   "cell_type": "code",
   "execution_count": 20,
   "id": "52026533-c53f-406d-84ba-31986c49e118",
   "metadata": {},
   "outputs": [
    {
     "name": "stdout",
     "output_type": "stream",
     "text": [
      "Top 10 recommendations for User 1:\n",
      "Casablanca (1942) (ID:483) with predicted rating 4.72\n",
      "Lawrence of Arabia (1962) (ID:511) with predicted rating 4.58\n",
      "Being There (1979) (ID:663) with predicted rating 4.53\n",
      "Big Sleep, The (1946) (ID:525) with predicted rating 4.52\n",
      "Some Folks Call It a Sling Blade (1993) (ID:963) with predicted rating 4.52\n",
      "As Good As It Gets (1997) (ID:316) with predicted rating 4.51\n",
      "Manchurian Candidate, The (1962) (ID:657) with predicted rating 4.51\n",
      "Paths of Glory (1957) (ID:641) with predicted rating 4.48\n",
      "African Queen, The (1951) (ID:498) with predicted rating 4.44\n",
      "Rear Window (1954) (ID:603) with predicted rating 4.42\n"
     ]
    }
   ],
   "source": [
    "# Recommend items for a sample user (user_id = 1)\n",
    "def recommend_items(user_id, model, ratings, n=10):\n",
    "    user_rated = ratings[ratings['user_id'] == user_id]['item_id'].tolist()\n",
    "    all_items = set(ratings['item_id'].unique())\n",
    "    unrated_items = all_items - set(user_rated)\n",
    "    \n",
    "    predictions = [model.predict(user_id, item) for item in unrated_items]\n",
    "    recommendations = sorted(predictions, key=lambda x: x.est, reverse=True)[:n]\n",
    "    \n",
    "    print(f\"Top {n} recommendations for User {user_id}:\")\n",
    "    for rec in recommendations:\n",
    "        movie_name=movies_ratings[movies_ratings['item_id']==rec.iid]['title'].values[0]\n",
    "        print(f\"{movie_name} (ID:{rec.iid}) with predicted rating {rec.est:.2f}\")\n",
    "\n",
    "# Display recommendations for sample user\n",
    "recommend_items(1, model, ratings)"
   ]
  },
  {
   "cell_type": "markdown",
   "id": "1ec333ab-4abc-4ebd-8c95-06f4bda3a389",
   "metadata": {},
   "source": [
    "<h4>Conclusions</h4>\n",
    "<h7>-The recommendation system using SVD achieved a Root Mean Square Error (RMSE) of 0.94 and Mean Absolute Error (MAE) of 0.74, indicating reliable predictions.</h7><br>\n",
    "<h7>-The model successfully recommends top movies for users based on past interactions, showing predicted ratings between 3.8 and 4.5 for suggested items.</h7><br>\n",
    "<h7>-Cross-validation results showed an average RMSE of 0.93 and an MAE of 0.73, demonstrating consistent performance across different data splits.</h7>"
   ]
  }
 ],
 "metadata": {
  "kernelspec": {
   "display_name": "Python 3 (ipykernel)",
   "language": "python",
   "name": "python3"
  },
  "language_info": {
   "codemirror_mode": {
    "name": "ipython",
    "version": 3
   },
   "file_extension": ".py",
   "mimetype": "text/x-python",
   "name": "python",
   "nbconvert_exporter": "python",
   "pygments_lexer": "ipython3",
   "version": "3.8.10"
  }
 },
 "nbformat": 4,
 "nbformat_minor": 5
}
